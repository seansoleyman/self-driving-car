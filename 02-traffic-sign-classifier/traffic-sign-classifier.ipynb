{
 "cells": [
  {
   "cell_type": "markdown",
   "metadata": {},
   "source": [
    "# Self-Driving Car Engineer Nanodegree\n",
    "\n",
    "## Deep Learning\n",
    "\n",
    "## Project: Build a Traffic Sign Recognition Classifier\n",
    "\n",
    "In this notebook, a template is provided for you to implement your functionality in stages, which is required to successfully complete this project. If additional code is required that cannot be included in the notebook, be sure that the Python code is successfully imported and included in your submission if necessary. \n",
    "\n",
    "> **Note**: Once you have completed all of the code implementations, you need to finalize your work by exporting the iPython Notebook as an HTML document. Before exporting the notebook to html, all of the code cells need to have been run so that reviewers can see the final implementation and output. You can then export the notebook by using the menu above and navigating to  \\n\",\n",
    "    \"**File -> Download as -> HTML (.html)**. Include the finished document along with this notebook as your submission. \n",
    "\n",
    "In addition to implementing code, there is a writeup to complete. The writeup should be completed in a separate file, which can be either a markdown file or a pdf document. There is a [write up template](https://github.com/udacity/CarND-Traffic-Sign-Classifier-Project/blob/master/writeup_template.md) that can be used to guide the writing process. Completing the code template and writeup template will cover all of the [rubric points](https://review.udacity.com/#!/rubrics/481/view) for this project.\n",
    "\n",
    "The [rubric](https://review.udacity.com/#!/rubrics/481/view) contains \"Stand Out Suggestions\" for enhancing the project beyond the minimum requirements. The stand out suggestions are optional. If you decide to pursue the \"stand out suggestions\", you can include the code in this Ipython notebook and also discuss the results in the writeup file.\n",
    "\n",
    "\n",
    ">**Note:** Code and Markdown cells can be executed using the **Shift + Enter** keyboard shortcut. In addition, Markdown cells can be edited by typically double-clicking the cell to enter edit mode."
   ]
  },
  {
   "cell_type": "code",
   "execution_count": 1,
   "metadata": {},
   "outputs": [
    {
     "name": "stderr",
     "output_type": "stream",
     "text": [
      "/home/sean/anaconda3/lib/python3.6/site-packages/h5py/__init__.py:36: FutureWarning: Conversion of the second argument of issubdtype from `float` to `np.floating` is deprecated. In future, it will be treated as `np.float64 == np.dtype(float).type`.\n",
      "  from ._conv import register_converters as _register_converters\n"
     ]
    }
   ],
   "source": [
    "import matplotlib.pyplot as plt\n",
    "# Visualizations will be shown in the notebook.\n",
    "%matplotlib inline\n",
    "import numpy as np\n",
    "import tensorflow as tf\n",
    "import random\n",
    "import math\n",
    "import os\n",
    "import cv2\n",
    "import pickle\n",
    "import time\n",
    "import re"
   ]
  },
  {
   "cell_type": "code",
   "execution_count": 2,
   "metadata": {
    "collapsed": true
   },
   "outputs": [],
   "source": [
    "# Constants describing the traffic signs data set.\n",
    "IMAGE_SIZE = 32                     # Width and height of images. \n",
    "CHANNELS = 3                        # Number of color channels (RGB). \n",
    "NUM_CLASSES = 43                    # Number of classes. \n",
    "NUM_TRAIN_EXAMPLES = 34799          # Number of test instances. \n",
    "NUM_VALID_EXAMPLES = 4410           # Number of validation instances. \n",
    "NUM_TEST_EXAMPLES = 12630           # Number of validation instances. \n",
    "\n",
    "# Constants describing the training process.\n",
    "BATCH_SIZE = 128                    # Batch size. \n",
    "LR_BOUNDARIES = [400, 14000, 18000] # Learning rate boundaries.\n",
    "LR_VALUES = [0.003, 0.03, 0.003, 0.0003]# Learning rates.\n",
    "MOMENTUM = 0.9                      # Momentum. \n",
    "TRAIN_STEPS = 20000                 # Number of steps to run. \n",
    "LOG_FREQUENCY = 1000                # How often to log results.\n",
    "\n",
    "# Network hyperparameters\n",
    "BN_MOMENTUM = 0.9                   # Decay rate for batch normalization.\n",
    "SHORTCUT_L2_SCALE = 0.0001          # Regularization for the skip connections. \n",
    "DEPTH = 5                           # Residual units per stack. \n",
    "WIDEN_FACTOR = 2                    # Scale up the number of feature maps.\n",
    "\n",
    "# Constants describing the input pipeline. \n",
    "SHUFFLE_BUFFER = NUM_TRAIN_EXAMPLES # Buffer size for the shuffled dataset.\n",
    "NUM_THREADS = 6                     # Number of threads for image processing. \n",
    "OUTPUT_BUFFER_SIZE = BATCH_SIZE*2   # Buffer size for processed images. \n",
    "TRAIN_OUTPUT_BUFFER = SHUFFLE_BUFFER//BATCH_SIZE # Train buffer size. \n",
    "VALIDATION_OUTPUT_BUFFER = 6        # Buffer size for validation dataset.\n",
    "\n",
    "# Data directory. \n",
    "DATA_DIR = r'/home/sean/Desktop/ml/datasets/traffic-signs-data'\n",
    "\n",
    "# Directory where to write event logs and checkpoint.\n",
    "TRAIN_DIR = r'train'"
   ]
  },
  {
   "cell_type": "markdown",
   "metadata": {},
   "source": [
    "---\n",
    "## Step 0: Load The Data"
   ]
  },
  {
   "cell_type": "code",
   "execution_count": 3,
   "metadata": {
    "collapsed": true
   },
   "outputs": [],
   "source": [
    "training_file = os.path.join(DATA_DIR, \"train.p\")\n",
    "validation_file = os.path.join(DATA_DIR, \"valid.p\")\n",
    "testing_file = os.path.join(DATA_DIR, \"test.p\")\n",
    "\n",
    "with open(training_file, mode='rb') as f:\n",
    "    train = pickle.load(f)\n",
    "with open(validation_file, mode='rb') as f:\n",
    "    valid = pickle.load(f)\n",
    "with open(testing_file, mode='rb') as f:\n",
    "    test = pickle.load(f)\n",
    "    \n",
    "X_train, y_train = train['features'], train['labels'].astype(np.int32)\n",
    "X_valid, y_valid = valid['features'], valid['labels'].astype(np.int32)\n",
    "X_test, y_test = test['features'], test['labels'].astype(np.int32)"
   ]
  },
  {
   "cell_type": "markdown",
   "metadata": {},
   "source": [
    "---\n",
    "\n",
    "## Step 1: Dataset Summary & Exploration\n",
    "\n",
    "The pickled data is a dictionary with 4 key/value pairs:\n",
    "\n",
    "- `'features'` is a 4D array containing raw pixel data of the traffic sign images, (num examples, width, height, channels).\n",
    "- `'labels'` is a 1D array containing the label/class id of the traffic sign. The file `signnames.csv` contains id -> name mappings for each id.\n",
    "- `'sizes'` is a list containing tuples, (width, height) representing the original width and height the image.\n",
    "- `'coords'` is a list containing tuples, (x1, y1, x2, y2) representing coordinates of a bounding box around the sign in the image. **THESE COORDINATES ASSUME THE ORIGINAL IMAGE. THE PICKLED DATA CONTAINS RESIZED VERSIONS (32 by 32) OF THESE IMAGES**\n",
    "\n",
    "Complete the basic data summary below. Use python, numpy and/or pandas methods to calculate the data summary rather than hard coding the results. For example, the [pandas shape method](http://pandas.pydata.org/pandas-docs/stable/generated/pandas.DataFrame.shape.html) might be useful for calculating some of the summary results. "
   ]
  },
  {
   "cell_type": "markdown",
   "metadata": {},
   "source": [
    "### Provide a Basic Summary of the Data Set Using Python, Numpy and/or Pandas"
   ]
  },
  {
   "cell_type": "code",
   "execution_count": 4,
   "metadata": {},
   "outputs": [
    {
     "name": "stdout",
     "output_type": "stream",
     "text": [
      "Number of training examples = 34799\n",
      "Number of validation examples = 4410\n",
      "Number of testing examples = 12630\n",
      "Image data shape = (32, 32)\n",
      "Number of classes = 43\n"
     ]
    }
   ],
   "source": [
    "# Number of training examples\n",
    "n_train = y_train.size\n",
    "\n",
    "# Number of validation examples\n",
    "n_validation = y_valid.size\n",
    "\n",
    "# Number of testing examples.\n",
    "n_test = y_test.size\n",
    "\n",
    "# What's the shape of an traffic sign image?\n",
    "image_shape = X_train.shape[1:3]\n",
    "\n",
    "# TODO: How many unique classes/labels there are in the dataset.\n",
    "n_classes = len(set(y_train))\n",
    "\n",
    "print(\"Number of training examples =\", n_train)\n",
    "print(\"Number of validation examples =\", n_validation)\n",
    "print(\"Number of testing examples =\", n_test)\n",
    "print(\"Image data shape =\", image_shape)\n",
    "print(\"Number of classes =\", n_classes)"
   ]
  },
  {
   "cell_type": "markdown",
   "metadata": {},
   "source": [
    "### Include an exploratory visualization of the dataset"
   ]
  },
  {
   "cell_type": "markdown",
   "metadata": {},
   "source": [
    "Visualize the German Traffic Signs Dataset using the pickled file(s). This is open ended, suggestions include: plotting traffic sign images, plotting the count of each sign, etc. \n",
    "\n",
    "The [Matplotlib](http://matplotlib.org/) [examples](http://matplotlib.org/examples/index.html) and [gallery](http://matplotlib.org/gallery.html) pages are a great resource for doing visualizations in Python.\n",
    "\n",
    "**NOTE:** It's recommended you start with something simple first. If you wish to do more, come back to it after you've completed the rest of the sections. It can be interesting to look at the distribution of classes in the training, validation and test set. Is the distribution the same? Are there more examples of some classes than others?"
   ]
  },
  {
   "cell_type": "markdown",
   "metadata": {},
   "source": [
    "Count the number of items in each class"
   ]
  },
  {
   "cell_type": "code",
   "execution_count": 5,
   "metadata": {},
   "outputs": [
    {
     "data": {
      "image/png": "[encoded data removed]",
      "text/plain": [
       "<matplotlib.figure.Figure at 0x7f7821af7080>"
      ]
     },
     "metadata": {},
     "output_type": "display_data"
    }
   ],
   "source": [
    "counts = np.zeros(43, dtype=np.float32)\n",
    "for y in y_train:\n",
    "    counts[y] += 1\n",
    "plt.bar(range(0, n_classes), counts)\n",
    "plt.title(\"Number of Training Instances for Each Class\")\n",
    "plt.xlabel(\"Class Index\")\n",
    "plt.ylabel(\"Number of Instances\")\n",
    "plt.savefig(\"instances_per_class.png\")\n",
    "plt.show()"
   ]
  },
  {
   "cell_type": "markdown",
   "metadata": {},
   "source": [
    "Display some of the images and labels"
   ]
  },
  {
   "cell_type": "code",
   "execution_count": 6,
   "metadata": {
    "scrolled": false
   },
   "outputs": [
    {
     "name": "stdout",
     "output_type": "stream",
     "text": [
      "Label: 41\n"
     ]
    },
    {
     "data": {
      "image/png": "[encoded data removed]",
      "text/plain": [
       "<matplotlib.figure.Figure at 0x7f7821383588>"
      ]
     },
     "metadata": {},
     "output_type": "display_data"
    },
    {
     "name": "stdout",
     "output_type": "stream",
     "text": [
      "Label: 37\n"
     ]
    },
    {
     "data": {
      "image/png": "[encoded data removed]",
      "text/plain": [
       "<matplotlib.figure.Figure at 0x7f7820b40588>"
      ]
     },
     "metadata": {},
     "output_type": "display_data"
    },
    {
     "name": "stdout",
     "output_type": "stream",
     "text": [
      "Label: 0\n"
     ]
    },
    {
     "data": {
      "image/png": "[encoded data removed]",
      "text/plain": [
       "<matplotlib.figure.Figure at 0x7f7821366ef0>"
      ]
     },
     "metadata": {},
     "output_type": "display_data"
    },
    {
     "name": "stdout",
     "output_type": "stream",
     "text": [
      "Label: 38\n"
     ]
    },
    {
     "data": {
      "image/png": "[encoded data removed]",
      "text/plain": [
       "<matplotlib.figure.Figure at 0x7f7820aa71d0>"
      ]
     },
     "metadata": {},
     "output_type": "display_data"
    },
    {
     "name": "stdout",
     "output_type": "stream",
     "text": [
      "Label: 35\n"
     ]
    },
    {
     "data": {
      "image/png": "[encoded data removed]",
      "text/plain": [
       "<matplotlib.figure.Figure at 0x7f7821383c50>"
      ]
     },
     "metadata": {},
     "output_type": "display_data"
    },
    {
     "name": "stdout",
     "output_type": "stream",
     "text": [
      "Label: 7\n"
     ]
    },
    {
     "data": {
      "image/png": "[encoded data removed]",
      "text/plain": [
       "<matplotlib.figure.Figure at 0x7f7821447828>"
      ]
     },
     "metadata": {},
     "output_type": "display_data"
    },
    {
     "name": "stdout",
     "output_type": "stream",
     "text": [
      "Label: 15\n"
     ]
    },
    {
     "data": {
      "image/png": "[encoded data removed]",
      "text/plain": [
       "<matplotlib.figure.Figure at 0x7f7820b28550>"
      ]
     },
     "metadata": {},
     "output_type": "display_data"
    }
   ],
   "source": [
    "for image, label in zip(X_train[::5000], y_train[::5000]):\n",
    "    print(\"Label:\",label)\n",
    "    plt.imshow(image)\n",
    "    plt.show()"
   ]
  },
  {
   "cell_type": "markdown",
   "metadata": {},
   "source": [
    "----\n",
    "\n",
    "## Step 2: Design and Test a Model Architecture\n",
    "\n",
    "Design and implement a deep learning model that learns to recognize traffic signs. Train and test your model on the [German Traffic Sign Dataset](http://benchmark.ini.rub.de/?section=gtsrb&subsection=dataset).\n",
    "\n",
    "The LeNet-5 implementation shown in the [classroom](https://classroom.udacity.com/nanodegrees/nd013/parts/fbf77062-5703-404e-b60c-95b78b2f3f9e/modules/6df7ae49-c61c-4bb2-a23e-6527e69209ec/lessons/601ae704-1035-4287-8b11-e2c2716217ad/concepts/d4aca031-508f-4e0b-b493-e7b706120f81) at the end of the CNN lesson is a solid starting point. You'll have to change the number of classes and possibly the preprocessing, but aside from that it's plug and play! \n",
    "\n",
    "With the LeNet-5 solution from the lecture, you should expect a validation set accuracy of about 0.89. To meet specifications, the validation set accuracy will need to be at least 0.93. It is possible to get an even higher accuracy, but 0.93 is the minimum for a successful project submission. \n",
    "\n",
    "There are various aspects to consider when thinking about this problem:\n",
    "\n",
    "- Neural network architecture (is the network over or underfitting?)\n",
    "- Play around preprocessing techniques (normalization, rgb to grayscale, etc)\n",
    "- Number of examples per label (some have more than others).\n",
    "- Generate fake data.\n",
    "\n",
    "Here is an example of a [published baseline model on this problem](http://yann.lecun.com/exdb/publis/pdf/sermanet-ijcnn-11.pdf). It's not required to be familiar with the approach used in the paper but, it's good practice to try to read papers like these."
   ]
  },
  {
   "cell_type": "markdown",
   "metadata": {},
   "source": [
    "### Pre-process the Data Set (normalization, grayscale, etc.)"
   ]
  },
  {
   "cell_type": "markdown",
   "metadata": {},
   "source": [
    "Minimally, the image data should be normalized so that the data has mean zero and equal variance. For image data, `(pixel - 128)/ 128` is a quick way to approximately normalize the data and can be used in this project. \n",
    "\n",
    "Other pre-processing steps are optional. You can try different techniques to see if it improves performance. \n",
    "\n",
    "Use the code cell (or multiple code cells, if necessary) to implement the first step of your project."
   ]
  },
  {
   "cell_type": "code",
   "execution_count": 7,
   "metadata": {
    "collapsed": true
   },
   "outputs": [],
   "source": [
    "def randomization_function(data, label):\n",
    "    \"\"\"Apply randomization and standardization to the dataset for training. \"\"\"\n",
    "    \n",
    "    # Randomly crop a section of the image with padding of 4 pixels.\n",
    "    data = tf.pad(data, [[4,4],[4,4],[0,0]], mode='REFLECT')\n",
    "    data = tf.random_crop(data, [IMAGE_SIZE, \n",
    "                                 IMAGE_SIZE, \n",
    "                                 CHANNELS])\n",
    "    \n",
    "    # Scale values to range from 0.0 to 1.0 in float32 format.\n",
    "    data = tf.cast(data, tf.float32)/255.0\n",
    "    \n",
    "    return data, label\n",
    "\n",
    "def standardization_function(data, label):\n",
    "    \"\"\"Scale values to range from 0.0 to 1.0 in float32 format. \"\"\"\n",
    "    \n",
    "    data = tf.cast(data, tf.float32)/255.0\n",
    "    \n",
    "    return data, label"
   ]
  },
  {
   "cell_type": "markdown",
   "metadata": {},
   "source": [
    "### Model Architecture\n",
    "\n",
    "This solution uses a ResNet architecture from a project that I did previously:\n",
    "https://github.com/seansoleyman/cifar10-resnet"
   ]
  },
  {
   "cell_type": "code",
   "execution_count": 8,
   "metadata": {
    "collapsed": true
   },
   "outputs": [],
   "source": [
    "\"\"\"Create two sets of BN->relu->conv layers, as well as a shortcut. \"\"\"\n",
    "def _residual_block(inputs, filters, initializer, training, stride=1, first=False):\n",
    "    assert(stride==1 or stride==2)\n",
    "    bn1 = tf.layers.batch_normalization(\n",
    "        inputs, \n",
    "        momentum=BN_MOMENTUM, \n",
    "        training=training, \n",
    "        fused=True, \n",
    "        scale=False, \n",
    "        name='bn1')\n",
    "    relu1 = tf.nn.relu(bn1, name='relu1')\n",
    "    conv1 = tf.layers.conv2d(\n",
    "        relu1, \n",
    "        filters=filters, \n",
    "        kernel_size=3, \n",
    "        strides=stride, \n",
    "        padding='same', \n",
    "        kernel_initializer=initializer, \n",
    "        use_bias=False, \n",
    "        name='conv1')\n",
    "    \n",
    "    bn2 = tf.layers.batch_normalization(\n",
    "        conv1, \n",
    "        momentum=BN_MOMENTUM, \n",
    "        training=training, \n",
    "        fused=True, \n",
    "        scale=False, \n",
    "        name='bn2')\n",
    "    relu2 = tf.nn.relu(bn2, name='relu2')\n",
    "    conv2 = tf.layers.conv2d(\n",
    "        relu2, \n",
    "        filters=filters, \n",
    "        kernel_size=3, \n",
    "        padding='same', \n",
    "        kernel_initializer=initializer, \n",
    "        use_bias=False, \n",
    "        name='conv2')\n",
    "    \n",
    "    shortcut = inputs\n",
    "    if first:\n",
    "        shortcut = relu1\n",
    "    if stride==2:\n",
    "        shortcut = tf.layers.average_pooling2d(shortcut, 2, 2)\n",
    "        pad = tf.zeros(tf.shape(shortcut), tf.float32, name='pad')\n",
    "        shortcut = tf.concat([shortcut, pad], axis=3, name='concat')\n",
    "    \n",
    "    return tf.add(shortcut, conv2, name='add')\n",
    "\n",
    "def inference(images, training):\n",
    "    \"\"\"Build a ResNet for CIFAR-10.\n",
    "\n",
    "    Args:\n",
    "        images: Input for the network. \n",
    "            Tensor with shape (batches, height=32, width=32, channels=3). \n",
    "        training: Boolean tensor that specifies if the network is\n",
    "            being trained. This is necessary for batch normalization. \n",
    "\n",
    "    Returns:\n",
    "        A tensor that evaluates scores for the CIFAR-10 classes. \n",
    "    \"\"\"\n",
    "    initializer = tf.contrib.layers.variance_scaling_initializer()\n",
    "\n",
    "    with tf.variable_scope('inference_model'):\n",
    "    \n",
    "        # Construct the first convolutional layer with no activation. \n",
    "        conv1 = tf.layers.conv2d(\n",
    "            images, \n",
    "            filters=16 * WIDEN_FACTOR, \n",
    "            kernel_size=3, \n",
    "            padding='same', \n",
    "            kernel_initializer = initializer,\n",
    "            use_bias=False, \n",
    "            name='conv')\n",
    "        \n",
    "        # Stack n residual blocks with 16*WIDEN_FACTOR feature maps sized 32x32. \n",
    "        with tf.variable_scope('stack1'):\n",
    "            block = conv1\n",
    "            filters = 16 * WIDEN_FACTOR\n",
    "            with tf.variable_scope('block1'):\n",
    "                block = _residual_block(block, filters, initializer, training, first=True)\n",
    "            for i in range(2, DEPTH+1):\n",
    "                with tf.variable_scope('block{}'.format(i)):\n",
    "                    block = _residual_block(block, filters, initializer, training)\n",
    "            \n",
    "        # Stack n residual blocks with 32*WIDEN_FACTOR feature maps sized 16x16. \n",
    "        with tf.variable_scope('stack2'):\n",
    "            filters *= 2\n",
    "            with tf.variable_scope('block1'):\n",
    "                block = _residual_block(block, filters, initializer, training, stride=2)\n",
    "            for i in range(2, DEPTH+1):\n",
    "                with tf.variable_scope('block{}'.format(i)):\n",
    "                    block = _residual_block(block, filters, initializer, training)\n",
    "            \n",
    "        # Stack n residual blocks with 64*WIDEN_FACTOR feature maps sized 8x8. \n",
    "        with tf.variable_scope('stack3'):\n",
    "            filters *= 2\n",
    "            with tf.variable_scope('block1'):\n",
    "                block = _residual_block(block, filters, initializer, training, stride=2)\n",
    "            for i in range(2, DEPTH+1):\n",
    "                with tf.variable_scope('block{}'.format(i)):\n",
    "                    block = _residual_block(block, filters, initializer, training)\n",
    "                    \n",
    "        # Batch Normalization and Rectified Linear Unit layers. \n",
    "        bn_final = tf.layers.batch_normalization(\n",
    "            block, \n",
    "            momentum=BN_MOMENTUM, \n",
    "            training=training, \n",
    "            fused=True, \n",
    "            scale=False, \n",
    "            name='bn_final')\n",
    "        relu_final = tf.nn.relu(bn_final, name='relu_final')\n",
    "    \n",
    "        # Global Average Pooling and Classifier. \n",
    "        global_average_pool = tf.layers.average_pooling2d(\n",
    "            relu_final, \n",
    "            pool_size=(8, 8),\n",
    "            strides=1, \n",
    "            name='global_average_pooling')\n",
    "        global_average_flat = tf.reshape(\n",
    "            global_average_pool, \n",
    "            [-1, filters], \n",
    "            name='flatten')\n",
    "        logits = tf.layers.dense(\n",
    "            global_average_flat, \n",
    "            units=NUM_CLASSES, \n",
    "            kernel_initializer = initializer,\n",
    "            name='fully_connected')\n",
    "\n",
    "    return logits"
   ]
  },
  {
   "cell_type": "markdown",
   "metadata": {},
   "source": [
    "### Train, Validate and Test the Model"
   ]
  },
  {
   "cell_type": "markdown",
   "metadata": {},
   "source": [
    "A validation set can be used to assess how well the model is performing. A low accuracy on the training and validation\n",
    "sets imply underfitting. A high accuracy on the training set but low accuracy on the validation set implies overfitting."
   ]
  },
  {
   "cell_type": "code",
   "execution_count": 9,
   "metadata": {
    "collapsed": true
   },
   "outputs": [],
   "source": [
    "### Train your model here.\n",
    "### Calculate and report the accuracy on the training and validation set.\n",
    "### Once a final model architecture is selected, \n",
    "### the accuracy on the test set should be calculated and reported as well.\n",
    "### Feel free to use as many code cells as needed."
   ]
  },
  {
   "cell_type": "code",
   "execution_count": 10,
   "metadata": {
    "collapsed": true
   },
   "outputs": [],
   "source": [
    "def total_loss_function(logits, labels):\n",
    "    \"\"\"Calculate the total loss including regularization losses. \"\"\"\n",
    "    with tf.name_scope('loss'):\n",
    "        # Calculate the average cross entropy loss across the batch.\n",
    "        labels = tf.cast(labels, tf.int64)\n",
    "        cross_entropy = tf.nn.sparse_softmax_cross_entropy_with_logits(\n",
    "            labels=labels, logits=logits, name='cross_entropy_per_example')\n",
    "        cross_entropy_mean = tf.reduce_mean(cross_entropy, name='cross_entropy')\n",
    "      \n",
    "        # The total loss is defined as the cross entropy loss plus all of the \n",
    "        # weight decay terms (L2 loss).\n",
    "        reg_losses = tf.get_collection(tf.GraphKeys.REGULARIZATION_LOSSES)\n",
    "        total_loss = tf.add_n(\n",
    "            [cross_entropy_mean] + reg_losses, name='total_loss')\n",
    "        \n",
    "        # Add summaries: regularization losses, cross entropy mean, total loss. \n",
    "        for l in reg_losses + [cross_entropy_mean] + [total_loss]:\n",
    "            tf.summary.scalar(l.op.name, l)\n",
    "      \n",
    "        return total_loss"
   ]
  },
  {
   "cell_type": "code",
   "execution_count": 11,
   "metadata": {
    "collapsed": true
   },
   "outputs": [],
   "source": [
    "def create_train_op(total_loss, global_step):\n",
    "    \"\"\"Create an operation for training the model.\n",
    "\n",
    "    Args:\n",
    "        total_loss: total loss from loss().\n",
    "        global_step: Integer Variable counting the number of training steps\n",
    "             processed.\n",
    "    Returns:\n",
    "        train_op: op for training.\n",
    "    \"\"\"\n",
    "    with tf.name_scope('train_op'):\n",
    "        # Decay the learning rate based on the number of steps.\n",
    "        lr = tf.train.piecewise_constant(tf.cast(global_step, tf.int32),\n",
    "                                         LR_BOUNDARIES,\n",
    "                                         LR_VALUES)\n",
    "    \n",
    "        # Compute gradients.\n",
    "        opt = tf.train.MomentumOptimizer(lr, \n",
    "                                         momentum=MOMENTUM, \n",
    "                                         use_nesterov=True)\n",
    "        grads = opt.compute_gradients(total_loss)\n",
    "    \n",
    "        # Apply gradients.\n",
    "        apply_gradient_op = opt.apply_gradients(grads, global_step=global_step)\n",
    "      \n",
    "        # Apply additional operations such as those needed for batch norm\n",
    "        extra_update_ops = tf.get_collection(tf.GraphKeys.UPDATE_OPS)\n",
    "    \n",
    "        with tf.control_dependencies(\n",
    "                [apply_gradient_op] + extra_update_ops):\n",
    "            train_op = tf.no_op(name='train')\n",
    "    \n",
    "    return train_op"
   ]
  },
  {
   "cell_type": "code",
   "execution_count": 12,
   "metadata": {},
   "outputs": [
    {
     "name": "stdout",
     "output_type": "stream",
     "text": [
      "Building TensorFlow Graph\n"
     ]
    }
   ],
   "source": [
    "tf.reset_default_graph()\n",
    "with tf.device('/cpu:0'), tf.name_scope('input'):\n",
    "    global_step = tf.train.get_or_create_global_step()\n",
    "\n",
    "    images_placeholder = tf.placeholder(\n",
    "            X_train.dtype, \n",
    "            (None, IMAGE_SIZE, IMAGE_SIZE, CHANNELS), \n",
    "            name='images_placeholder')\n",
    "    labels_placeholder = tf.placeholder(\n",
    "            y_train.dtype, \n",
    "            (None,), \n",
    "            name='labels_placeholder')\n",
    "\n",
    "    train_data_dict = {images_placeholder: X_train, \n",
    "        labels_placeholder: y_train}\n",
    "    valid_data_dict = {images_placeholder: X_valid, \n",
    "        labels_placeholder: y_valid}\n",
    "    test_data_dict = {images_placeholder: X_test, \n",
    "        labels_placeholder: y_test}\n",
    "\n",
    "    training_dataset = tf.data.Dataset.from_tensor_slices(\n",
    "            (images_placeholder, labels_placeholder))\n",
    "    training_dataset = training_dataset.prefetch(SHUFFLE_BUFFER)\n",
    "    training_dataset = training_dataset.map(\n",
    "            randomization_function, \n",
    "            num_parallel_calls=NUM_THREADS)\n",
    "    training_dataset = training_dataset.shuffle(\n",
    "            buffer_size=SHUFFLE_BUFFER)\n",
    "    training_dataset = training_dataset.batch(BATCH_SIZE)\n",
    "    training_dataset = training_dataset.repeat()\n",
    "    training_dataset = training_dataset.prefetch(TRAIN_OUTPUT_BUFFER)\n",
    "\n",
    "    validation_dataset = tf.data.Dataset.from_tensor_slices(\n",
    "            (images_placeholder, labels_placeholder))\n",
    "    validation_dataset = validation_dataset.map(\n",
    "            standardization_function, \n",
    "            num_parallel_calls=NUM_THREADS)\n",
    "    validation_dataset = validation_dataset.batch(\n",
    "            BATCH_SIZE)\n",
    "    validation_dataset = validation_dataset.prefetch(\n",
    "        VALIDATION_OUTPUT_BUFFER)\n",
    "\n",
    "    iterator = tf.contrib.data.Iterator.from_structure(\n",
    "            training_dataset.output_types, training_dataset.output_shapes)\n",
    "    next_element = iterator.get_next()\n",
    "    training_init_op = iterator.make_initializer(training_dataset)\n",
    "    validation_init_op = iterator.make_initializer(validation_dataset)\n",
    "\n",
    "    training_placeholder = tf.placeholder_with_default(\n",
    "          False, (), name='training_placeholder')\n",
    "\n",
    "print(\"Building TensorFlow Graph\")\n",
    "\n",
    "# Build a Graph that computes the logits predictions from the\n",
    "# inference model.\n",
    "logits = inference(next_element[0], training=training_placeholder)\n",
    "\n",
    "# Calculate loss.\n",
    "total_loss = total_loss_function(logits, next_element[1])\n",
    "\n",
    "with(tf.name_scope('accuracy')):\n",
    "    correct = tf.nn.in_top_k(logits, next_element[1], 1)\n",
    "    number_correct = tf.reduce_sum(tf.cast(correct, tf.int32))\n",
    "\n",
    "# Build a Graph that trains the model with one batch of examples and\n",
    "# updates the model parameters.\n",
    "train_op = create_train_op(total_loss, global_step)\n",
    "\n",
    "init = tf.global_variables_initializer()\n",
    "\n",
    "saver = tf.train.Saver()"
   ]
  },
  {
   "cell_type": "code",
   "execution_count": 13,
   "metadata": {
    "collapsed": true
   },
   "outputs": [],
   "source": [
    "# Clear the training directory\n",
    "if tf.gfile.Exists(TRAIN_DIR):\n",
    "    tf.gfile.DeleteRecursively(TRAIN_DIR)\n",
    "tf.gfile.MakeDirs(TRAIN_DIR)"
   ]
  },
  {
   "cell_type": "code",
   "execution_count": 14,
   "metadata": {
    "scrolled": false
   },
   "outputs": [
    {
     "name": "stdout",
     "output_type": "stream",
     "text": [
      "Starting TensorFlow Session\n",
      "Initializing Global Variables\n",
      "Training in Progress\n",
      "Step: 1000\n",
      "  Train Set Accuracy: 0.9643955286071438\n",
      "  Validation Set Accuracy: 0.9301587301587302\n",
      "  Average Training Time per Step: 0.06609455245800018\n",
      "Step: 2000\n",
      "  Train Set Accuracy: 0.9996264260467255\n",
      "  Validation Set Accuracy: 0.9755102040816327\n",
      "  Average Training Time per Step: 0.06446245949900004\n",
      "Step: 3000\n",
      "  Train Set Accuracy: 0.999856317710279\n",
      "  Validation Set Accuracy: 0.9782312925170068\n",
      "  Average Training Time per Step: 0.06472106896100013\n",
      "Step: 4000\n",
      "  Train Set Accuracy: 1.0\n",
      "  Validation Set Accuracy: 0.9850340136054422\n",
      "  Average Training Time per Step: 0.06491785514900039\n",
      "Step: 5000\n",
      "  Train Set Accuracy: 1.0\n",
      "  Validation Set Accuracy: 0.9857142857142858\n",
      "  Average Training Time per Step: 0.06516644679800083\n",
      "Step: 6000\n",
      "  Train Set Accuracy: 1.0\n",
      "  Validation Set Accuracy: 0.9859410430839002\n",
      "  Average Training Time per Step: 0.0653319976060011\n",
      "Step: 7000\n",
      "  Train Set Accuracy: 1.0\n",
      "  Validation Set Accuracy: 0.9873015873015873\n",
      "  Average Training Time per Step: 0.06537185505399976\n",
      "Step: 8000\n",
      "  Train Set Accuracy: 1.0\n",
      "  Validation Set Accuracy: 0.9861678004535147\n",
      "  Average Training Time per Step: 0.06534503368399965\n",
      "Step: 9000\n",
      "  Train Set Accuracy: 0.9996264260467255\n",
      "  Validation Set Accuracy: 0.9764172335600907\n",
      "  Average Training Time per Step: 0.06540502974399896\n",
      "Step: 10000\n",
      "  Train Set Accuracy: 1.0\n",
      "  Validation Set Accuracy: 0.9848072562358277\n",
      "  Average Training Time per Step: 0.06528082172200084\n",
      "Step: 11000\n",
      "  Train Set Accuracy: 1.0\n",
      "  Validation Set Accuracy: 0.9852607709750567\n",
      "  Average Training Time per Step: 0.06524718179999946\n",
      "Step: 12000\n",
      "  Train Set Accuracy: 1.0\n",
      "  Validation Set Accuracy: 0.9854875283446712\n",
      "  Average Training Time per Step: 0.0654161668680008\n",
      "Step: 13000\n",
      "  Train Set Accuracy: 1.0\n",
      "  Validation Set Accuracy: 0.9850340136054422\n",
      "  Average Training Time per Step: 0.06533924286799993\n",
      "Step: 14000\n",
      "  Train Set Accuracy: 1.0\n",
      "  Validation Set Accuracy: 0.9861678004535147\n",
      "  Average Training Time per Step: 0.0653171222990004\n",
      "Step: 15000\n",
      "  Train Set Accuracy: 1.0\n",
      "  Validation Set Accuracy: 0.9859410430839002\n",
      "  Average Training Time per Step: 0.06535378396200031\n",
      "Step: 16000\n",
      "  Train Set Accuracy: 1.0\n",
      "  Validation Set Accuracy: 0.9857142857142858\n",
      "  Average Training Time per Step: 0.06534326703899933\n",
      "Step: 17000\n",
      "  Train Set Accuracy: 1.0\n",
      "  Validation Set Accuracy: 0.9854875283446712\n",
      "  Average Training Time per Step: 0.06528248587800044\n",
      "Step: 18000\n",
      "  Train Set Accuracy: 1.0\n",
      "  Validation Set Accuracy: 0.9857142857142858\n",
      "  Average Training Time per Step: 0.06542093563399975\n",
      "Step: 19000\n",
      "  Train Set Accuracy: 1.0\n",
      "  Validation Set Accuracy: 0.9857142857142858\n",
      "  Average Training Time per Step: 0.06541723283800092\n",
      "Step: 20000\n",
      "  Train Set Accuracy: 1.0\n",
      "  Validation Set Accuracy: 0.9857142857142858\n",
      "  Average Training Time per Step: 0.06543390053800067\n",
      "Best Validation Accuracy: 0.9873015873015873\n"
     ]
    }
   ],
   "source": [
    "print(\"Starting TensorFlow Session\")\n",
    "best_validation_accuracy = 0.0\n",
    "with tf.Session() as sess:\n",
    "    print(\"Initializing Global Variables\")\n",
    "    init.run()\n",
    "\n",
    "    print(\"Training in Progress\")\n",
    "    while global_step.eval() < TRAIN_STEPS:\n",
    "        # Run a number of training steps set by LOG_FREQUENCY\n",
    "        training_init_op.run(feed_dict=(train_data_dict))\n",
    "        start_time = time.perf_counter()\n",
    "        for _ in range(0,LOG_FREQUENCY):\n",
    "            batch_loss = sess.run(\n",
    "                    [train_op, total_loss], \n",
    "                    feed_dict={training_placeholder: True})[1:]\n",
    "        end_time = time.perf_counter()\n",
    "        average_time_per_step = (end_time-start_time)/LOG_FREQUENCY\n",
    "\n",
    "        # Calculate error rate based on the full train set.  \n",
    "        validation_init_op.run(feed_dict=train_data_dict)\n",
    "        total_correct = 0\n",
    "        n_train_validation_steps = math.ceil(\n",
    "                NUM_TRAIN_EXAMPLES/BATCH_SIZE)\n",
    "        for _ in range(0, n_train_validation_steps):\n",
    "            total_correct += number_correct.eval()\n",
    "        train_accuracy = total_correct/NUM_TRAIN_EXAMPLES\n",
    "\n",
    "        # Calculate error rate based on the full validation set.  \n",
    "        validation_init_op.run(feed_dict=valid_data_dict)\n",
    "        total_correct = 0\n",
    "        n_validation_steps = math.ceil(\n",
    "                NUM_VALID_EXAMPLES/BATCH_SIZE)\n",
    "        for _ in range(0, n_validation_steps):\n",
    "            total_correct += number_correct.eval()\n",
    "        validation_accuracy = total_correct/NUM_VALID_EXAMPLES\n",
    "        best_validation_accuracy = max(best_validation_accuracy, validation_accuracy)\n",
    "\n",
    "        print(\"Step:\", global_step.eval())\n",
    "        print(\"  Train Set Accuracy:\", train_accuracy)\n",
    "        print(\"  Validation Set Accuracy:\", validation_accuracy)\n",
    "        print(\"  Average Training Time per Step:\", average_time_per_step)\n",
    "    saver.save(sess, os.path.join(TRAIN_DIR, \"model.ckpt\"))\n",
    "    print(\"Best Validation Accuracy:\", best_validation_accuracy)"
   ]
  },
  {
   "cell_type": "code",
   "execution_count": 15,
   "metadata": {},
   "outputs": [
    {
     "name": "stdout",
     "output_type": "stream",
     "text": [
      "Evaluating on Test Data...\n",
      "INFO:tensorflow:Restoring parameters from train/model.ckpt\n",
      "Test Set Accuracy: 0.9754552652414885\n"
     ]
    }
   ],
   "source": [
    "print(\"Evaluating on Test Data...\")\n",
    "with tf.Session() as sess:\n",
    "    saver.restore(sess, os.path.join(TRAIN_DIR, \"model.ckpt\"))\n",
    "    validation_init_op.run(feed_dict=test_data_dict)\n",
    "    total_correct = 0\n",
    "    n_test_steps = math.ceil(\n",
    "            NUM_TEST_EXAMPLES/BATCH_SIZE)\n",
    "    for _ in range(0, n_test_steps):\n",
    "        total_correct += number_correct.eval()\n",
    "    test_accuracy = total_correct/NUM_TEST_EXAMPLES\n",
    "    print(\"Test Set Accuracy:\", test_accuracy)"
   ]
  },
  {
   "cell_type": "markdown",
   "metadata": {},
   "source": [
    "---\n",
    "\n",
    "## Step 3: Test a Model on New Images\n",
    "\n",
    "To give yourself more insight into how your model is working, download at least five pictures of German traffic signs from the web and use your model to predict the traffic sign type.\n",
    "\n",
    "You may find `signnames.csv` useful as it contains mappings from the class id (integer) to the actual sign name."
   ]
  },
  {
   "cell_type": "markdown",
   "metadata": {},
   "source": [
    "### Load and Output the Images"
   ]
  },
  {
   "cell_type": "code",
   "execution_count": 16,
   "metadata": {},
   "outputs": [
    {
     "name": "stdout",
     "output_type": "stream",
     "text": [
      "22.jpg\n"
     ]
    },
    {
     "data": {
      "image/png": "[encoded data removed]",
      "text/plain": [
       "<matplotlib.figure.Figure at 0x7f7820a2a198>"
      ]
     },
     "metadata": {},
     "output_type": "display_data"
    },
    {
     "name": "stdout",
     "output_type": "stream",
     "text": [
      "13.jpg\n"
     ]
    },
    {
     "data": {
      "image/png": "[encoded data removed]",
      "text/plain": [
       "<matplotlib.figure.Figure at 0x7f77a6f810b8>"
      ]
     },
     "metadata": {},
     "output_type": "display_data"
    },
    {
     "name": "stdout",
     "output_type": "stream",
     "text": [
      "7.jpg\n"
     ]
    },
    {
     "data": {
      "image/png": "[encoded data removed]",
      "text/plain": [
       "<matplotlib.figure.Figure at 0x7f7820a4ba58>"
      ]
     },
     "metadata": {},
     "output_type": "display_data"
    },
    {
     "name": "stdout",
     "output_type": "stream",
     "text": [
      "29.jpg\n"
     ]
    },
    {
     "data": {
      "image/png": "[encoded data removed]",
      "text/plain": [
       "<matplotlib.figure.Figure at 0x7f780404ef60>"
      ]
     },
     "metadata": {},
     "output_type": "display_data"
    },
    {
     "name": "stdout",
     "output_type": "stream",
     "text": [
      "27.jpg\n"
     ]
    },
    {
     "data": {
      "image/png": "[encoded data removed]",
      "text/plain": [
       "<matplotlib.figure.Figure at 0x7f78040653c8>"
      ]
     },
     "metadata": {},
     "output_type": "display_data"
    }
   ],
   "source": [
    "IMAGE_DIR = \"downloaded_traffic_signs\"\n",
    "filenames = os.listdir(IMAGE_DIR)\n",
    "images = []\n",
    "labels = []\n",
    "for filename in filenames:\n",
    "    print(filename)\n",
    "    labels.append(int(re.match(r\"\\d+\", filename).group(0)))\n",
    "    image = plt.imread(os.path.join(IMAGE_DIR, filename))\n",
    "    image = cv2.resize(image, dsize=(32, 32), interpolation=cv2.INTER_NEAREST)\n",
    "    images.append(image)\n",
    "    plt.imshow(image)\n",
    "    plt.show()\n",
    "X_downloaded = np.array(images, dtype=np.uint8)\n",
    "y_downloaded = np.array(labels, dtype=np.int32)"
   ]
  },
  {
   "cell_type": "markdown",
   "metadata": {},
   "source": [
    "### Predict the Sign Type for Each Image"
   ]
  },
  {
   "cell_type": "code",
   "execution_count": 17,
   "metadata": {
    "collapsed": true
   },
   "outputs": [],
   "source": [
    "downloaded_data_dict = {images_placeholder: X_downloaded, labels_placeholder: y_downloaded}"
   ]
  },
  {
   "cell_type": "code",
   "execution_count": 18,
   "metadata": {},
   "outputs": [
    {
     "name": "stdout",
     "output_type": "stream",
     "text": [
      "Making predictions for downloaded data\n",
      "INFO:tensorflow:Restoring parameters from train/model.ckpt\n",
      "Ground Truth: [22 13  7 29 27]\n",
      "Predictions: [22 13  8 29 27]\n"
     ]
    }
   ],
   "source": [
    "print(\"Making predictions for downloaded data\")\n",
    "with tf.Session() as sess:\n",
    "    saver.restore(sess, os.path.join(TRAIN_DIR, \"model.ckpt\"))\n",
    "    validation_init_op.run(feed_dict=downloaded_data_dict)\n",
    "    logits_results, total_correct = sess.run([logits, number_correct])\n",
    "print(\"Ground Truth:\", y_downloaded)\n",
    "print(\"Predictions:\", np.argmax(logits_results, 1))"
   ]
  },
  {
   "cell_type": "markdown",
   "metadata": {},
   "source": [
    "### Analyze Performance"
   ]
  },
  {
   "cell_type": "code",
   "execution_count": 19,
   "metadata": {},
   "outputs": [
    {
     "name": "stdout",
     "output_type": "stream",
     "text": [
      "Accuracy on downloaded images: 0.8\n"
     ]
    }
   ],
   "source": [
    "test_accuracy = total_correct/5\n",
    "print(\"Accuracy on downloaded images:\", test_accuracy)"
   ]
  },
  {
   "cell_type": "markdown",
   "metadata": {},
   "source": [
    "### Output Top 5 Softmax Probabilities For Each Image Found on the Web"
   ]
  },
  {
   "cell_type": "markdown",
   "metadata": {},
   "source": [
    "For each of the new images, print out the model's softmax probabilities to show the **certainty** of the model's predictions (limit the output to the top 5 probabilities for each image). [`tf.nn.top_k`](https://www.tensorflow.org/versions/r0.12/api_docs/python/nn.html#top_k) could prove helpful here. \n",
    "\n",
    "The example below demonstrates how tf.nn.top_k can be used to find the top k predictions for each image.\n",
    "\n",
    "`tf.nn.top_k` will return the values and indices (class ids) of the top k predictions. So if k=3, for each sign, it'll return the 3 largest probabilities (out of a possible 43) and the correspoding class ids.\n",
    "\n",
    "Take this numpy array as an example. The values in the array represent predictions. The array contains softmax probabilities for five candidate images with six possible classes. `tf.nn.top_k` is used to choose the three classes with the highest probability:\n",
    "\n",
    "```\n",
    "# (5, 6) array\n",
    "a = np.array([[ 0.24879643,  0.07032244,  0.12641572,  0.34763842,  0.07893497,\n",
    "         0.12789202],\n",
    "       [ 0.28086119,  0.27569815,  0.08594638,  0.0178669 ,  0.18063401,\n",
    "         0.15899337],\n",
    "       [ 0.26076848,  0.23664738,  0.08020603,  0.07001922,  0.1134371 ,\n",
    "         0.23892179],\n",
    "       [ 0.11943333,  0.29198961,  0.02605103,  0.26234032,  0.1351348 ,\n",
    "         0.16505091],\n",
    "       [ 0.09561176,  0.34396535,  0.0643941 ,  0.16240774,  0.24206137,\n",
    "         0.09155967]])\n",
    "```\n",
    "\n",
    "Running it through `sess.run(tf.nn.top_k(tf.constant(a), k=3))` produces:\n",
    "\n",
    "```\n",
    "TopKV2(values=array([[ 0.34763842,  0.24879643,  0.12789202],\n",
    "       [ 0.28086119,  0.27569815,  0.18063401],\n",
    "       [ 0.26076848,  0.23892179,  0.23664738],\n",
    "       [ 0.29198961,  0.26234032,  0.16505091],\n",
    "       [ 0.34396535,  0.24206137,  0.16240774]]), indices=array([[3, 0, 5],\n",
    "       [0, 1, 4],\n",
    "       [0, 5, 1],\n",
    "       [1, 3, 5],\n",
    "       [1, 4, 3]], dtype=int32))\n",
    "```\n",
    "\n",
    "Looking just at the first row we get `[ 0.34763842,  0.24879643,  0.12789202]`, you can confirm these are the 3 largest probabilities in `a`. You'll also notice `[3, 0, 5]` are the corresponding indices."
   ]
  },
  {
   "cell_type": "code",
   "execution_count": 20,
   "metadata": {},
   "outputs": [
    {
     "name": "stdout",
     "output_type": "stream",
     "text": [
      "TopKV2(values=array([[9.9991298e-01, 4.0890001e-05, 1.6010861e-05, 7.7378363e-06,\n",
      "        4.3853111e-06],\n",
      "       [9.9999332e-01, 2.2563086e-06, 1.4478958e-06, 3.6850051e-07,\n",
      "        3.0994505e-07],\n",
      "       [5.8217478e-01, 2.7610493e-01, 4.1870181e-02, 3.5495292e-02,\n",
      "        2.4533352e-02],\n",
      "       [9.9767250e-01, 4.6261211e-04, 4.1451989e-04, 3.9746915e-04,\n",
      "        1.5305617e-04],\n",
      "       [9.4863141e-01, 1.4919022e-02, 1.2767719e-02, 7.9805022e-03,\n",
      "        6.2072421e-03]], dtype=float32), indices=array([[22, 15, 29, 32, 26],\n",
      "       [13, 10,  4, 40, 26],\n",
      "       [ 8,  5,  1,  7,  0],\n",
      "       [29, 22, 30, 25, 28],\n",
      "       [27, 24, 28, 21, 11]], dtype=int32))\n"
     ]
    }
   ],
   "source": [
    "tf.reset_default_graph()\n",
    "logits_placeholder = tf.placeholder(tf.float32, shape=(None, NUM_CLASSES))\n",
    "softmax = tf.nn.softmax(logits_placeholder, axis=1)\n",
    "top_5 = tf.nn.top_k(softmax, k=5)\n",
    "with tf.Session() as sess:\n",
    "    top_5_eval = sess.run(top_5, feed_dict={logits_placeholder: logits_results})\n",
    "print(top_5_eval)"
   ]
  },
  {
   "cell_type": "markdown",
   "metadata": {},
   "source": [
    "### Project Writeup\n",
    "\n",
    "Once you have completed the code implementation, document your results in a project writeup using this [template](https://github.com/udacity/CarND-Traffic-Sign-Classifier-Project/blob/master/writeup_template.md) as a guide. The writeup can be in a markdown or pdf file. "
   ]
  },
  {
   "cell_type": "markdown",
   "metadata": {},
   "source": [
    "> **Note**: Once you have completed all of the code implementations and successfully answered each question above, you may finalize your work by exporting the iPython Notebook as an HTML document. You can do this by using the menu above and navigating to  \\n\",\n",
    "    \"**File -> Download as -> HTML (.html)**. Include the finished document along with this notebook as your submission."
   ]
  }
 ],
 "metadata": {
  "anaconda-cloud": {},
  "kernelspec": {
   "display_name": "Python 3",
   "language": "python",
   "name": "python3"
  },
  "language_info": {
   "codemirror_mode": {
    "name": "ipython",
    "version": 3
   },
   "file_extension": ".py",
   "mimetype": "text/x-python",
   "name": "python",
   "nbconvert_exporter": "python",
   "pygments_lexer": "ipython3",
   "version": "3.6.3"
  }
 },
 "nbformat": 4,
 "nbformat_minor": 1
}
